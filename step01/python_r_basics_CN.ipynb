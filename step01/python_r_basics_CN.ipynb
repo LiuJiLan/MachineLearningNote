{
  "nbformat": 4,
  "nbformat_minor": 0,
  "metadata": {
    "kernelspec": {
      "display_name": "Python 3",
      "language": "python",
      "name": "python3"
    },
    "language_info": {
      "codemirror_mode": {
        "name": "ipython",
        "version": 3
      },
      "file_extension": ".py",
      "mimetype": "text/x-python",
      "name": "python",
      "nbconvert_exporter": "python",
      "pygments_lexer": "ipython3",
      "version": "3.7.4"
    },
    "pycharm": {
      "stem_cell": {
        "cell_type": "raw",
        "metadata": {
          "collapsed": false
        },
        "source": []
      }
    },
    "colab": {
      "name": "python_r_basics_CN.ipynb",
      "provenance": [],
      "collapsed_sections": [
        "LkPBDMvmv-7N",
        "kt4ffPp4v-7N",
        "ThdvxhGYv-7P",
        "f-qRTXp3v-7Q",
        "Owm0io_7v-7S",
        "LdMnbYxDv-7S",
        "5c537gAjv-7U",
        "PNvXypsIv-7V",
        "_FD3zhmz6ZNo",
        "QTD17FDxv-7Y"
      ]
    }
  },
  "cells": [
    {
      "cell_type": "markdown",
      "metadata": {
        "id": "77k8D7YFv-7I"
      },
      "source": [
        "# Python/R 基础\n",
        "---\n",
        "本笔记由原笔记翻译而成, 其中包含部分补充笔记。\n",
        "[原作者:github.com/rwbfd](https://github.com/rwbfd)\n",
        "\n",
        "注意: 部分注释没有翻译。\n"
      ]
    },
    {
      "cell_type": "markdown",
      "metadata": {
        "id": "LkPBDMvmv-7N"
      },
      "source": [
        "## Python 基础\n",
        "---\n",
        "**请注意, 本笔记内容部分描述没有 Python Docs 中严谨。**\n",
        " \n",
        "\n",
        "\n"
      ]
    },
    {
      "cell_type": "markdown",
      "metadata": {
        "id": "kt4ffPp4v-7N"
      },
      "source": [
        "### 定义函数"
      ]
    },
    {
      "cell_type": "markdown",
      "metadata": {
        "id": "qmWEkneFwys2"
      },
      "source": [
        "请注意 type hint 不会进行强制类型转化。这与 Cython 等其他静态语言不一样。"
      ]
    },
    {
      "cell_type": "code",
      "metadata": {
        "pycharm": {
          "name": "#%%\n"
        },
        "id": "TGZR3d2Jv-7O"
      },
      "source": [
        "def myfunc(a:float, *args, **kwargs) -> str:\n",
        "    return str(a)"
      ],
      "execution_count": null,
      "outputs": []
    },
    {
      "cell_type": "code",
      "metadata": {
        "pycharm": {
          "name": "#%%\n"
        },
        "id": "CIyyLTc1v-7O"
      },
      "source": [
        "# 这看似不起作用,但是其实可以!\n",
        "import numpy as np\n",
        "x = np.array([1,1])\n",
        "myfunc(x)\n",
        "\n",
        "# 解释: 此处的a: float中的float并没有约束作用,\n",
        "# 所以a 接受的实际类型是<class 'numpy.ndarray'>"
      ],
      "execution_count": null,
      "outputs": []
    },
    {
      "cell_type": "markdown",
      "metadata": {
        "id": "w0V12K5VwxU1"
      },
      "source": [
        "`*args` 被称为 list unpacks。在函数内部, `args` 就像列表(lists)一样。"
      ]
    },
    {
      "cell_type": "code",
      "metadata": {
        "pycharm": {
          "name": "#%%\n"
        },
        "id": "c_yfxCOGv-7O"
      },
      "source": [
        "def mysum(*args):\n",
        "    result = 0\n",
        "    for x in args:\n",
        "        result += x\n",
        "    return result\n",
        "mysum(1,2,3) # Works\n",
        "mysum(2,3,5,6) #Works"
      ],
      "execution_count": null,
      "outputs": []
    },
    {
      "cell_type": "markdown",
      "metadata": {
        "id": "4Qt9sVxnxUVv"
      },
      "source": [
        "另一方面, `**kwargs` 被称为 keyword argument。其本质是一个 Python 字典变量。 "
      ]
    },
    {
      "cell_type": "code",
      "metadata": {
        "id": "6s-dM0bxyAzd"
      },
      "source": [
        "def my_concat(**kwargs):\n",
        "    result = \"\"\n",
        "    \n",
        "    for k, v in kwargs.items():\n",
        "        result += v\n",
        "    return result"
      ],
      "execution_count": null,
      "outputs": []
    },
    {
      "cell_type": "code",
      "metadata": {
        "id": "0GLzvZr7JmP2"
      },
      "source": [
        "my_concat(x=\"a\",y=\"b\") # works\n",
        "# 此处的 x, y 会被推断为<class 'str'>"
      ],
      "execution_count": null,
      "outputs": []
    },
    {
      "cell_type": "code",
      "metadata": {
        "id": "JlljL8_HJpIt"
      },
      "source": [
        "my_concat(fff = 1, bsr = 2) # not really\n",
        "# 错误原因是因为 result = \"\""
      ],
      "execution_count": null,
      "outputs": []
    },
    {
      "cell_type": "code",
      "metadata": {
        "id": "M3UBcR9TMGl-"
      },
      "source": [
        "# 除此之外还有这种格式:\n",
        "my_concat(**{\"x\": \"a\", \"y\": \"b\"}) # works"
      ],
      "execution_count": null,
      "outputs": []
    },
    {
      "cell_type": "code",
      "metadata": {
        "id": "5ImG2R1fJrr_"
      },
      "source": [
        "my_concat(**{x: \"a\", y: \"b\"}) # not really\n",
        "# 错误原因 似乎 是因为此时的 x, y 不会进行类型推断。\n",
        "# 说 似乎 因为本人还没有探究清楚。"
      ],
      "execution_count": null,
      "outputs": []
    },
    {
      "cell_type": "markdown",
      "metadata": {
        "id": "mi11QTriIExo"
      },
      "source": [
        "**注意:**\n",
        "> 在 Python Docs 中指出:\n",
        ">> 当存在一个形式为 `**name` 的最后一个形参时, 它会接收一个字典, 其中包含除了与已有形参相对应的关键字参数以外的所有关键字参数。\n",
        ">>\n",
        ">> 这可以与一个形式为 `*name`，接收一个包含除了与已有形参列表以外的位置参数的`元组`的形参组合使用 (`*name` 必须出现在 `**name` 之前)。"
      ]
    },
    {
      "cell_type": "markdown",
      "metadata": {
        "id": "ThdvxhGYv-7P"
      },
      "source": [
        "### 处理异常\n",
        "\n",
        "---\n",
        "处理异常最常用的方法是`触发异常`(也称为 `抛出`)。\n",
        "\n",
        "**注释:** `Raising Exceptions` 在官方文档里被翻译为 `触发异常`, 此段翻译中**没有**精准的区别`触发(raise)`与`抛出(throw)`。"
      ]
    },
    {
      "cell_type": "markdown",
      "metadata": {
        "id": "Myf1zcDHW132"
      },
      "source": [
        "**基础处理异常代码**\n",
        "\n",
        "> `try:` 执行代码, 注意`try:`不仅可以捕获`try:`代码块中的异常,还可以捕获`try:`之后函数中的异常。\n",
        "> \n",
        "> `except:` 发生异常时执行的代码\n",
        "> \n",
        "> `else:` 没有异常时执行的代码\n",
        "> \n",
        "> `finally:` 不管有没有异常都会执行的代码\n",
        "\n",
        "\n",
        "\n",
        "**注意:**详细使用应参见Python Docs。"
      ]
    },
    {
      "cell_type": "markdown",
      "metadata": {
        "id": "QZ62y5aD5mL0"
      },
      "source": [
        "**来自 Python Docs:**\n",
        "\n",
        "`except` 子句可以在异常名称后面指定一个变量。这个变量和一个异常实例绑定, 它的参数存储在 `instance.args` 中。\n",
        "\n",
        "为了方便起见, 异常实例定义了 `__str__()` , 因此可以直接打印参数而无需引用 `.args` 。也可以在抛出之前首先实例化异常, 并根据需要向其添加任何属性。"
      ]
    },
    {
      "cell_type": "code",
      "metadata": {
        "colab": {
          "base_uri": "https://localhost:8080/"
        },
        "id": "FaUlicTH5k1-",
        "outputId": "4eae9eda-2bc3-4f2e-cd08-09f4192a998d"
      },
      "source": [
        "# 来自 Python Docs 的示例代码:\n",
        "try:\n",
        "  raise Exception('spam', 'eggs')\n",
        "except Exception as inst:\n",
        "  print(type(inst))    # the exception instance\n",
        "  print(inst.args)     # arguments stored in .args\n",
        "  print(inst)          # __str__ allows args to be printed directly, but may be overridden in exception subclasses\n",
        "  x, y = inst.args     # unpack args\n",
        "  print('x =', x)\n",
        "  print('y =', y)"
      ],
      "execution_count": null,
      "outputs": [
        {
          "output_type": "stream",
          "text": [
            "<class 'Exception'>\n",
            "('spam', 'eggs')\n",
            "('spam', 'eggs')\n",
            "x = spam\n",
            "y = eggs\n"
          ],
          "name": "stdout"
        }
      ]
    },
    {
      "cell_type": "code",
      "metadata": {
        "pycharm": {
          "name": "#%%\n"
        },
        "id": "yL8uNyM0v-7P"
      },
      "source": [
        "def raise_exception(x):\n",
        "    raise Exception(\"I am an EXCEPTION!!!\") # Something bad has happend\n",
        "\n",
        "def catcher(x):\n",
        "    try:\n",
        "        raise_exception(x) # This will run the code. If everything is fine, it will return normally.\n",
        "    except (TypeError, NameError):  # If a specific error occurs, this will follow the behavior. \n",
        "        print(\"I am ok with this!\")\n",
        "    except Exception as e: # This is often used to handle unknown exception, by letting someone else do the job\n",
        "        raise e\n",
        "    finally: # This will always execute no matter what\n",
        "        print(\"Let us swallow everything when exception occurs!\")\n",
        "    \n",
        "    "
      ],
      "execution_count": null,
      "outputs": []
    },
    {
      "cell_type": "code",
      "metadata": {
        "pycharm": {
          "name": "#%%\n"
        },
        "id": "8h2DbzdGv-7P"
      },
      "source": [
        "catcher(1)"
      ],
      "execution_count": null,
      "outputs": []
    },
    {
      "cell_type": "markdown",
      "metadata": {
        "id": "d_jAkz7OzNB1"
      },
      "source": [
        "这中方法有有几个问题.\n",
        "\n",
        "\n",
        "*   只要有一个异常没有相应的处理，程序就会中断。\n",
        "*   如果是我们是在测试代码, 那这是没问题的。但是如果是在生产实践中, 我们不推荐这么做。\n",
        "*   一旦一个函数抛出异常, 调用该函数的其他所有人都必须通过添加`try-except`代码块来改进其代码。\n",
        "*   许多异常将一直传递到顶部, 然后进行处理。 但是, 顶层函数不知道每个函数的详细信息! 因此, 设计一个完整的计划非常困难。\n",
        "\n"
      ]
    },
    {
      "cell_type": "markdown",
      "metadata": {
        "id": "w4_WUu9Cz2RL"
      },
      "source": [
        "另一种方法是使用日志。 有许多记录日志的选项, 我们将不进行详细介绍。 习惯用法是记录何处出现了问题并指定行为。\n",
        "\n",
        "好处是您将保持程序警告, 并通过调整日志级别来调整行为。 但是, **仍然需要有人处理异常!**"
      ]
    },
    {
      "cell_type": "code",
      "metadata": {
        "pycharm": {
          "name": "#%%\n"
        },
        "id": "9QV8D7Knv-7Q"
      },
      "source": [
        "import logging\n",
        "logging.info(\"This is some useful information.\")\n",
        "logging.warning(\"This is some warning!\")\n",
        "logging.error(\"Something went wrong!\")\n"
      ],
      "execution_count": null,
      "outputs": []
    },
    {
      "cell_type": "markdown",
      "metadata": {
        "id": "7_nazaSC0ds2"
      },
      "source": [
        "最后且是非常流行的一个选择是使用Monad。 要去解释Monad将会非常复杂。 因此, 让我们来看一个例子。\n",
        "\n",
        "**注释:** \n",
        "\n",
        "Monad: In functional programming, a monad is an abstraction that allows structuring programs generically.  ——  From Wiki  [Monad (functional programming)](https://en.wikipedia.org/wiki/Monad_(functional_programming))"
      ]
    },
    {
      "cell_type": "code",
      "metadata": {
        "id": "zEzDul9T1AnU"
      },
      "source": [
        "class Failure():\n",
        "    def __init__(self, value, failed=False):\n",
        "        self.value = value\n",
        "        self.failed = failed\n",
        "    def get(self):\n",
        "        return self.value\n",
        "    def is_failed(self):\n",
        "        return self.failed\n",
        "    def __str__(self):\n",
        "        return ' '.join([str(self.value), str(self.failed)])\n",
        "    def __or__(self, f):\n",
        "        if self.failed:\n",
        "            return self\n",
        "        try:\n",
        "            x = f(self.get())\n",
        "            return Failure(x)\n",
        "        except:\n",
        "            return Failure(None, True)"
      ],
      "execution_count": null,
      "outputs": []
    },
    {
      "cell_type": "code",
      "metadata": {
        "colab": {
          "base_uri": "https://localhost:8080/"
        },
        "id": "GV3tlwTH1EzP",
        "outputId": "400b3d84-98b1-46eb-d9d7-59429d8d49d0"
      },
      "source": [
        "# This will work.\n",
        "from operator import neg\n",
        "x = '1'\n",
        "y = Failure(x) | int | neg | str\n",
        "print(y)"
      ],
      "execution_count": null,
      "outputs": [
        {
          "output_type": "stream",
          "text": [
            "-1 False\n"
          ],
          "name": "stdout"
        }
      ]
    },
    {
      "cell_type": "code",
      "metadata": {
        "id": "PIKc2eru16ps",
        "colab": {
          "base_uri": "https://localhost:8080/"
        },
        "outputId": "9ec57ca2-2aab-40b7-da76-1c295376ceee"
      },
      "source": [
        "# This will not\n",
        "from operator import neg\n",
        "x = 'hahaha'\n",
        "y = Failure(x) | int | neg | str\n",
        "print(y)"
      ],
      "execution_count": null,
      "outputs": [
        {
          "output_type": "stream",
          "text": [
            "None True\n"
          ],
          "name": "stdout"
        }
      ]
    },
    {
      "cell_type": "markdown",
      "metadata": {
        "id": "CwDDrPQ62jn-"
      },
      "source": [
        "在[这里](https://github.com/jasondelaat/pymonad.git)可以找到一个很好的有关函数化编程合集。\n",
        "\n",
        "使用`pip install PyMonad`命令进行安装。"
      ]
    },
    {
      "cell_type": "markdown",
      "metadata": {
        "id": "niJ3EhMI_Tge"
      },
      "source": [
        "**笔记:**\n",
        "\n",
        "`__or__`函数解释:\n",
        "\n",
        "\n",
        "> 参数解释: f 传入的是一个函数(函数名, 而不是函数结构)。\n",
        "\n",
        "> 函数内容:\n",
        ">\n",
        ">> 首先检查是否还需要继续执行下一步, 如果之前有过报错( 反应在`self.failed`上 )则退出函数。\n",
        ">\n",
        ">> 尝试运行下一步, 如果报错交由`except:`处理, 并把`self.failed`标记为`True`。没有报错则将结果返回, 继续执行下一步。\n",
        "\n",
        "\n",
        "\n",
        "\n",
        "\n",
        "\n"
      ]
    },
    {
      "cell_type": "markdown",
      "metadata": {
        "id": "f-qRTXp3v-7Q"
      },
      "source": [
        "### Python \b类"
      ]
    },
    {
      "cell_type": "code",
      "metadata": {
        "pycharm": {
          "name": "#%%\n"
        },
        "id": "WMIqTOnkv-7Q"
      },
      "source": [
        "class MyClass(object):\n",
        "    def __init__(self, x):\n",
        "        self.x = x\n",
        "    def __del__(self): # WARNING: Perhaps a very bad idea!\n",
        "        print(\"I am gone\")"
      ],
      "execution_count": null,
      "outputs": []
    },
    {
      "cell_type": "code",
      "metadata": {
        "pycharm": {
          "name": "#%%\n"
        },
        "id": "HFxU9U2Nv-7Q"
      },
      "source": [
        "my_class = MyClass(1)"
      ],
      "execution_count": null,
      "outputs": []
    },
    {
      "cell_type": "code",
      "metadata": {
        "pycharm": {
          "name": "#%%\n"
        },
        "id": "oKH1m7ZQv-7Q"
      },
      "source": [
        "del my_class"
      ],
      "execution_count": null,
      "outputs": []
    },
    {
      "cell_type": "code",
      "metadata": {
        "pycharm": {
          "name": "#%%\n"
        },
        "id": "ZOCTWQQ9v-7R"
      },
      "source": [
        "my_class\n",
        "# 这将会引发错误 NameError: name 'my_class' is not defined\n",
        "# 因为 my_class 已经被 del\n",
        "#\n",
        "# 注意此行为与C++中delete或C中free()行为的区别:\n",
        "# C或C++中这些函数的函数的操作对象是一个指针变量,\n",
        "# 这意味这这个指针在被释放后会进入\"吊起指针\"的状态。\n",
        "# 但本身指针的内容(不是指针所指向的内容)并未改变,\n",
        "# 所以在C或C++编程中当释放一个指针之后应该将其赋NULL值。"
      ],
      "execution_count": null,
      "outputs": []
    },
    {
      "cell_type": "code",
      "metadata": {
        "pycharm": {
          "name": "#%%\n"
        },
        "id": "hU941s5-v-7R"
      },
      "source": [
        "my_class_a = MyClass(1)\n",
        "my_class_b = my_class_a\n",
        "my_class_c = MyClass(1)"
      ],
      "execution_count": null,
      "outputs": []
    },
    {
      "cell_type": "code",
      "metadata": {
        "pycharm": {
          "name": "#%%\n"
        },
        "id": "iNFfKBexv-7R",
        "colab": {
          "base_uri": "https://localhost:8080/"
        },
        "outputId": "8f15455d-041d-4acc-bc84-22d57e74c13c"
      },
      "source": [
        "my_class_b.x= 2\n",
        "print(my_class_a.x) # Note that this is a reference to the class, therefore, they are pointing to the same thing which is why it changes. "
      ],
      "execution_count": null,
      "outputs": [
        {
          "output_type": "stream",
          "text": [
            "2\n"
          ],
          "name": "stdout"
        }
      ]
    },
    {
      "cell_type": "code",
      "metadata": {
        "pycharm": {
          "name": "#%%\n"
        },
        "id": "tZ0iYfeBv-7R",
        "colab": {
          "base_uri": "https://localhost:8080/"
        },
        "outputId": "72e4912f-6a24-4a44-bf8f-265d06e5205d"
      },
      "source": [
        "my_class_b == my_class_a"
      ],
      "execution_count": null,
      "outputs": [
        {
          "output_type": "execute_result",
          "data": {
            "text/plain": [
              "True"
            ]
          },
          "metadata": {
            "tags": []
          },
          "execution_count": 18
        }
      ]
    },
    {
      "cell_type": "code",
      "metadata": {
        "pycharm": {
          "name": "#%%\n"
        },
        "id": "v4y3z3ptv-7R",
        "colab": {
          "base_uri": "https://localhost:8080/"
        },
        "outputId": "9d46603e-2b80-4c25-8591-ef52ca4bec92"
      },
      "source": [
        "my_class_a = MyClass(1)\n",
        "my_class_c = MyClass(1)\n",
        "my_class_a == my_class_c"
      ],
      "execution_count": null,
      "outputs": [
        {
          "output_type": "stream",
          "text": [
            "I am gone\n"
          ],
          "name": "stdout"
        },
        {
          "output_type": "execute_result",
          "data": {
            "text/plain": [
              "False"
            ]
          },
          "metadata": {
            "tags": []
          },
          "execution_count": 6
        }
      ]
    },
    {
      "cell_type": "code",
      "metadata": {
        "pycharm": {
          "name": "#%%\n"
        },
        "id": "NsYH2c7rv-7R",
        "colab": {
          "base_uri": "https://localhost:8080/"
        },
        "outputId": "2ffa2acf-c02e-43b3-cee4-d175f515a02e"
      },
      "source": [
        "from copy import deepcopy\n",
        "my_class_a = MyClass(1)\n",
        "my_class_b = deepcopy(my_class_a)\n",
        "my_class_b == my_class_a"
      ],
      "execution_count": null,
      "outputs": [
        {
          "output_type": "stream",
          "text": [
            "I am gone\n",
            "I am gone\n"
          ],
          "name": "stdout"
        },
        {
          "output_type": "execute_result",
          "data": {
            "text/plain": [
              "False"
            ]
          },
          "metadata": {
            "tags": []
          },
          "execution_count": 20
        }
      ]
    },
    {
      "cell_type": "code",
      "metadata": {
        "pycharm": {
          "name": "#%%\n"
        },
        "id": "16O41n_-v-7R",
        "colab": {
          "base_uri": "https://localhost:8080/"
        },
        "outputId": "5728ce1b-9112-43c2-f8f7-1a1c615211ef"
      },
      "source": [
        "my_class_b.x= 2\n",
        "print(my_class_a.x)"
      ],
      "execution_count": null,
      "outputs": [
        {
          "output_type": "stream",
          "text": [
            "1\n"
          ],
          "name": "stdout"
        }
      ]
    },
    {
      "cell_type": "markdown",
      "metadata": {
        "id": "AvSziJsFodro"
      },
      "source": [
        "**补充笔记:有关 Python 垃圾回收 / 对象回收 / 引用计数 机制:**"
      ]
    },
    {
      "cell_type": "code",
      "metadata": {
        "id": "VKZaNNZeoodL"
      },
      "source": [
        "# 在搜集资料时, 有参考文件指出:\n",
        "a = 40      # 创建对象  <40>\n",
        "b = a       # 增加引用， <40> 的计数\n",
        "c = [b]     # 增加引用.  <40> 的计数\n",
        "\n",
        "del a       # 减少引用 <40> 的计数\n",
        "b = 100     # 减少引用 <40> 的计数\n",
        "c[0] = -1   # 减少引用 <40> 的计数"
      ],
      "execution_count": null,
      "outputs": []
    },
    {
      "cell_type": "markdown",
      "metadata": {
        "id": "DFnlsPWRqCGb"
      },
      "source": [
        "有趣的是, Python Docs中对有关信息的描述非常零散:\n",
        "\n",
        "\n",
        "1.   在`Python/C API 参考手册`的`概述`的`对象、类型和引用计数`中有这样的描述:\n",
        "    > 所有 Python 对象（甚至 Python 整数）都有一个 type 和一个 reference count。对象的类型确定它是什么类型的对象（例如整数、列表或用户定义函数；还有更多，如 标准类型层级结构 中所述）。对于每个众所周知的类型，都有一个宏来检查对象是否属于该类型；例如，当（且仅当） a 所指的对象是 Python 列表时 PyList_Check(a) 为真。\n",
        "\n",
        "   更为重要的是, 在这之中有关`引用计数`的许多文档并未进行翻译。如果想进一步了解其工作原理应查阅相关文档原文。\n",
        "\n",
        "\n",
        "2.   在`Python 语言参考手册`的`3. 数据模型`的`3.1. 对象、值与类型`中有这样的描述:\n",
        "> 对象绝不会被显式地销毁；然而，当无法访问时它们可能会被作为垃圾回收。允许具体的实现推迟垃圾回收或完全省略此机制 --- 如何实现垃圾回收是实现的质量问题，只要可访问的对象不会被回收即可。\n",
        "\n",
        "3.   在`Python/C API 参考手册`的`内存管理`中有对试图使用`malloc()`、 `calloc()`、 `realloc()` 和 `free()`的一些警示, 在不确定你的使用是否正确前应查看相应文档。\n"
      ]
    },
    {
      "cell_type": "markdown",
      "metadata": {
        "id": "Owm0io_7v-7S"
      },
      "source": [
        "### 幽灵巴士事件(The Ghost Bus Incidence)\n",
        "\n",
        "---\n",
        "使用可变变量作为默认参数通常是一个可怕的主意。 以下片段表明了这一点。"
      ]
    },
    {
      "cell_type": "code",
      "metadata": {
        "pycharm": {
          "name": "#%%\n"
        },
        "id": "hWcygEKFv-7S"
      },
      "source": [
        "class GhostBus:\n",
        "    def __init__(self, passengers=[]):\n",
        "        self.passengers = passengers\n",
        "    \n",
        "    def pick(self, name):\n",
        "        self.passengers.append(name)\n",
        "        \n",
        "    def drop(self, name):\n",
        "        self.passengers.remove(name)"
      ],
      "execution_count": null,
      "outputs": []
    },
    {
      "cell_type": "code",
      "metadata": {
        "pycharm": {
          "name": "#%%\n"
        },
        "id": "-9cjnum2v-7S",
        "colab": {
          "base_uri": "https://localhost:8080/"
        },
        "outputId": "b6d6c4e8-5dee-43ff-f2b1-08151b1fc876"
      },
      "source": [
        "# 多运行这个代码块几次\n",
        "ghost_bus = GhostBus()\n",
        "ghost_bus.pick('A Ghost')\n",
        "ghost_bus.passengers"
      ],
      "execution_count": null,
      "outputs": [
        {
          "output_type": "execute_result",
          "data": {
            "text/plain": [
              "['A Ghost']"
            ]
          },
          "metadata": {
            "tags": []
          },
          "execution_count": 23
        }
      ]
    },
    {
      "cell_type": "markdown",
      "metadata": {
        "id": "YW2Mmym6x_OG"
      },
      "source": [
        "为何会有这种错误发生呢? 请注意, `self.passengers`是对`passengers`的引用，而`passengers`又是对`[]`(一个全局变量)的引用。 请注意, 当你更改`self.passengers`的值时, 你也在同时修改了`[]`。 因此, 请改为使用`None`。"
      ]
    },
    {
      "cell_type": "markdown",
      "metadata": {
        "id": "FjozKN_Rw6eX"
      },
      "source": [
        "**注意:**\n",
        "\n",
        "在Python Docs中对这个问题已经进行过提醒, 其指出:\n",
        "> **重要警告:** 默认值只计算一次。默认值为列表、字典或类实例等可变对象时, 会产生与该规则不同的结果。例如, 下面的函数会累积后续调用时传递的参数:\n",
        "\n"
      ]
    },
    {
      "cell_type": "code",
      "metadata": {
        "id": "rwM5t2QGxc1r"
      },
      "source": [
        "def f(a, L=[]):\n",
        "    L.append(a)\n",
        "    return L\n",
        "\n",
        "print(f(1))\n",
        "print(f(2))\n",
        "print(f(3))"
      ],
      "execution_count": null,
      "outputs": []
    },
    {
      "cell_type": "markdown",
      "metadata": {
        "id": "KpLktphtxi-b"
      },
      "source": [
        "> 不想在后续调用之间共享默认值时, 应以如下方式编写函数:"
      ]
    },
    {
      "cell_type": "code",
      "metadata": {
        "id": "of6_He_1xgKc"
      },
      "source": [
        "def f(a, L=None):\n",
        "    if L is None:\n",
        "        L = []\n",
        "    L.append(a)\n",
        "    return L"
      ],
      "execution_count": null,
      "outputs": []
    },
    {
      "cell_type": "markdown",
      "metadata": {
        "id": "LdMnbYxDv-7S"
      },
      "source": [
        "### 通用数据结构: 列表 (`list`)\n",
        "\n",
        "---\n",
        "Python 的 `list` 有一点像C++中的 `vector` (容器), 但它可以容纳任何类型的对象。 它是有序的。\n",
        "\n",
        "**注释:**此处可能有语义歧义, 这里的“但它可以容纳任何类型的对象”表示的是Python 的 `list` 可以同时容纳不同类型的对象, 而C++中的 `vector`只能容纳单种变量或对象。C或C++惯用者应该会觉得这两者的区别巨大。"
      ]
    },
    {
      "cell_type": "code",
      "metadata": {
        "pycharm": {
          "name": "#%%\n"
        },
        "id": "u37CChEXv-7S"
      },
      "source": [
        "a = []\n",
        "# a = list()\n",
        "b= [1,a,'2']\n",
        "\n",
        "# 注意这两种初始化方式其实是有细微区别的:\n",
        "# 区别主要在于list()是一个function call,\n",
        "# Python的function call会创建stack, \n",
        "# 并且进行一系列参数检查的操作, 比较expensive, \n",
        "# 反观[]是一个内置的C函数, 可以直接被调用，因此效率高。"
      ],
      "execution_count": null,
      "outputs": []
    },
    {
      "cell_type": "code",
      "metadata": {
        "colab": {
          "base_uri": "https://localhost:8080/"
        },
        "id": "_j42XYXZzV-r",
        "outputId": "da97aeca-46b6-40db-c10a-762e822d8f36"
      },
      "source": [
        "b"
      ],
      "execution_count": null,
      "outputs": [
        {
          "output_type": "execute_result",
          "data": {
            "text/plain": [
              "[1, [], '2']"
            ]
          },
          "metadata": {
            "tags": []
          },
          "execution_count": 105
        }
      ]
    },
    {
      "cell_type": "code",
      "metadata": {
        "pycharm": {
          "name": "#%%\n"
        },
        "id": "6eUkPbSVv-7S",
        "colab": {
          "base_uri": "https://localhost:8080/"
        },
        "outputId": "9f2df282-7706-417c-8196-9233748ece7e"
      },
      "source": [
        "b[0]"
      ],
      "execution_count": null,
      "outputs": [
        {
          "output_type": "execute_result",
          "data": {
            "text/plain": [
              "1"
            ]
          },
          "metadata": {
            "tags": []
          },
          "execution_count": 39
        }
      ]
    },
    {
      "cell_type": "code",
      "metadata": {
        "pycharm": {
          "name": "#%%\n"
        },
        "id": "NTPUDvEhv-7T",
        "colab": {
          "base_uri": "https://localhost:8080/"
        },
        "outputId": "29d426df-605d-4e42-f6b2-fd614cadad91"
      },
      "source": [
        "b[:1]"
      ],
      "execution_count": null,
      "outputs": [
        {
          "output_type": "execute_result",
          "data": {
            "text/plain": [
              "[1]"
            ]
          },
          "metadata": {
            "tags": []
          },
          "execution_count": 106
        }
      ]
    },
    {
      "cell_type": "code",
      "metadata": {
        "pycharm": {
          "name": "#%%\n"
        },
        "id": "F9z2pMDnv-7T",
        "colab": {
          "base_uri": "https://localhost:8080/"
        },
        "outputId": "a783e2c3-6963-4b37-babe-c9e969befcdd"
      },
      "source": [
        "b[1:]"
      ],
      "execution_count": null,
      "outputs": [
        {
          "output_type": "execute_result",
          "data": {
            "text/plain": [
              "[[], '2']"
            ]
          },
          "metadata": {
            "tags": []
          },
          "execution_count": 107
        }
      ]
    },
    {
      "cell_type": "code",
      "metadata": {
        "pycharm": {
          "name": "#%%\n"
        },
        "id": "MtL9tBILv-7T",
        "colab": {
          "base_uri": "https://localhost:8080/"
        },
        "outputId": "410688e8-e2f2-4829-ce3f-f85ea05c4627"
      },
      "source": [
        "b[2:3]"
      ],
      "execution_count": null,
      "outputs": [
        {
          "output_type": "execute_result",
          "data": {
            "text/plain": [
              "['2']"
            ]
          },
          "metadata": {
            "tags": []
          },
          "execution_count": 42
        }
      ]
    },
    {
      "cell_type": "code",
      "metadata": {
        "pycharm": {
          "name": "#%%\n"
        },
        "id": "aswePQjav-7T",
        "colab": {
          "base_uri": "https://localhost:8080/",
          "height": 35
        },
        "outputId": "e20ce8f0-f824-4fcf-c986-b3e1f5cce928"
      },
      "source": [
        "b[-1]"
      ],
      "execution_count": null,
      "outputs": [
        {
          "output_type": "execute_result",
          "data": {
            "application/vnd.google.colaboratory.intrinsic+json": {
              "type": "string"
            },
            "text/plain": [
              "'2'"
            ]
          },
          "metadata": {
            "tags": []
          },
          "execution_count": 108
        }
      ]
    },
    {
      "cell_type": "code",
      "metadata": {
        "pycharm": {
          "name": "#%%\n"
        },
        "id": "uJGc1GChv-7T",
        "colab": {
          "base_uri": "https://localhost:8080/"
        },
        "outputId": "82be4b9a-8630-4ffa-a4b9-fdbb6763e6c0"
      },
      "source": [
        "b[:-2]"
      ],
      "execution_count": null,
      "outputs": [
        {
          "output_type": "execute_result",
          "data": {
            "text/plain": [
              "[1]"
            ]
          },
          "metadata": {
            "tags": []
          },
          "execution_count": 44
        }
      ]
    },
    {
      "cell_type": "code",
      "metadata": {
        "pycharm": {
          "name": "#%%\n"
        },
        "id": "nVgXgPopv-7T",
        "colab": {
          "base_uri": "https://localhost:8080/"
        },
        "outputId": "80607853-995f-4e5b-cd15-eb1eaf122f56"
      },
      "source": [
        "b.append(5)\n",
        "b"
      ],
      "execution_count": null,
      "outputs": [
        {
          "output_type": "execute_result",
          "data": {
            "text/plain": [
              "[1, [], '2', 5]"
            ]
          },
          "metadata": {
            "tags": []
          },
          "execution_count": 45
        }
      ]
    },
    {
      "cell_type": "code",
      "metadata": {
        "pycharm": {
          "name": "#%%\n"
        },
        "id": "yQGXGx53v-7T",
        "colab": {
          "base_uri": "https://localhost:8080/"
        },
        "outputId": "88ef476b-8d3e-409d-c861-d5b4b63c350e"
      },
      "source": [
        "b.extend([1,2])\n",
        "b"
      ],
      "execution_count": null,
      "outputs": [
        {
          "output_type": "execute_result",
          "data": {
            "text/plain": [
              "[1, [], '2', 5, 1, 2]"
            ]
          },
          "metadata": {
            "tags": []
          },
          "execution_count": 46
        }
      ]
    },
    {
      "cell_type": "code",
      "metadata": {
        "pycharm": {
          "name": "#%%\n"
        },
        "id": "_Kw4x2YTv-7T",
        "colab": {
          "base_uri": "https://localhost:8080/"
        },
        "outputId": "2dbfe83d-53d1-42a3-e77a-94fef2fd1add"
      },
      "source": [
        "b.insert(1,'haha')\n",
        "b"
      ],
      "execution_count": null,
      "outputs": [
        {
          "output_type": "execute_result",
          "data": {
            "text/plain": [
              "[1, 'haha', [], '2', 5, 1, 2]"
            ]
          },
          "metadata": {
            "tags": []
          },
          "execution_count": 47
        }
      ]
    },
    {
      "cell_type": "code",
      "metadata": {
        "pycharm": {
          "name": "#%%\n"
        },
        "id": "BtQTt2Knv-7U",
        "colab": {
          "base_uri": "https://localhost:8080/"
        },
        "outputId": "eec674dc-1297-4276-a68a-207fced6d30a"
      },
      "source": [
        "del b[0]\n",
        "b"
      ],
      "execution_count": null,
      "outputs": [
        {
          "output_type": "execute_result",
          "data": {
            "text/plain": [
              "['haha', [], '2', 5, 1, 2]"
            ]
          },
          "metadata": {
            "tags": []
          },
          "execution_count": 48
        }
      ]
    },
    {
      "cell_type": "code",
      "metadata": {
        "pycharm": {
          "name": "#%%\n"
        },
        "id": "mtJbHA2xv-7U"
      },
      "source": [
        "b.remove(1)"
      ],
      "execution_count": null,
      "outputs": []
    },
    {
      "cell_type": "code",
      "metadata": {
        "pycharm": {
          "name": "#%%\n"
        },
        "id": "l8z0rKlAv-7U",
        "colab": {
          "base_uri": "https://localhost:8080/"
        },
        "outputId": "72358cc3-574c-4873-d600-c3efe241bbe8"
      },
      "source": [
        "matrix  = [[1,2],[3,4],[5,6],[7,8]]\n",
        "matrix"
      ],
      "execution_count": null,
      "outputs": [
        {
          "output_type": "execute_result",
          "data": {
            "text/plain": [
              "[[1, 2], [3, 4], [5, 6], [7, 8]]"
            ]
          },
          "metadata": {
            "tags": []
          },
          "execution_count": 50
        }
      ]
    },
    {
      "cell_type": "code",
      "metadata": {
        "pycharm": {
          "name": "#%%\n"
        },
        "id": "bo0C4l_Gv-7U"
      },
      "source": [
        "tranpose =[[row[i] for row in matrix] for i in range(2)]"
      ],
      "execution_count": null,
      "outputs": []
    },
    {
      "cell_type": "markdown",
      "metadata": {
        "id": "Wt67-b6R354P"
      },
      "source": [
        "这里我们使用了列表推导式 `[x for x in iterable]` , 简而言之:\n",
        "\n",
        "```\n",
        "x = [i*2 for i in range(10]\n",
        "```\n",
        "\n",
        "和后者是一样的\n",
        "\n",
        "```\n",
        "x = list()\n",
        "for i in range(10):\n",
        "    x.append(i*2)\n",
        "```"
      ]
    },
    {
      "cell_type": "markdown",
      "metadata": {
        "id": "5c537gAjv-7U"
      },
      "source": [
        "### 通用数据结构: 集合 (`set`)\n",
        "\n",
        "---\n",
        "其本质上是一个哈希集, 这基本上意味着它是无序的。 可以“等效”为C++中的`unordered_set`。 另外, 其中没有重复的元素。"
      ]
    },
    {
      "cell_type": "code",
      "metadata": {
        "pycharm": {
          "name": "#%%\n"
        },
        "id": "Nk9-pzwov-7U"
      },
      "source": [
        "a = {1,2,3}"
      ],
      "execution_count": null,
      "outputs": []
    },
    {
      "cell_type": "code",
      "metadata": {
        "pycharm": {
          "name": "#%%\n"
        },
        "colab": {
          "base_uri": "https://localhost:8080/"
        },
        "id": "i-OYhqe3v-7V",
        "outputId": "4b4f0bb1-a379-42d5-863b-d6f69cc6c331"
      },
      "source": [
        "my_set = {1, 3}\n",
        "print(my_set)\n",
        "my_set.add(2)\n",
        "print(my_set)\n",
        "my_set.update([2, 3, 4])\n",
        "print(my_set)\n",
        "my_set.update([4, 5], {1, 6, 8})\n",
        "print(my_set)"
      ],
      "execution_count": null,
      "outputs": [
        {
          "output_type": "stream",
          "text": [
            "{1, 3}\n",
            "{1, 2, 3}\n",
            "{1, 2, 3, 4}\n",
            "{1, 2, 3, 4, 5, 6, 8}\n"
          ],
          "name": "stdout"
        }
      ]
    },
    {
      "cell_type": "code",
      "metadata": {
        "pycharm": {
          "name": "#%%\n"
        },
        "colab": {
          "base_uri": "https://localhost:8080/"
        },
        "id": "a3sa7o0iv-7V",
        "outputId": "246259a8-37c9-4d7b-8f3c-fcfe558ae458"
      },
      "source": [
        "my_set.add(1)\n",
        "my_set"
      ],
      "execution_count": null,
      "outputs": [
        {
          "output_type": "execute_result",
          "data": {
            "text/plain": [
              "{1, 2, 3, 4, 5, 6, 8}"
            ]
          },
          "metadata": {
            "tags": []
          },
          "execution_count": 62
        }
      ]
    },
    {
      "cell_type": "code",
      "metadata": {
        "pycharm": {
          "name": "#%%\n"
        },
        "colab": {
          "base_uri": "https://localhost:8080/"
        },
        "id": "_J4Owc8gv-7V",
        "outputId": "ae4d3dd8-c48f-488e-f634-1cf134246b9c"
      },
      "source": [
        "my_set.remove(1)\n",
        "my_set"
      ],
      "execution_count": null,
      "outputs": [
        {
          "output_type": "execute_result",
          "data": {
            "text/plain": [
              "{2, 3, 4, 5, 6, 8}"
            ]
          },
          "metadata": {
            "tags": []
          },
          "execution_count": 63
        }
      ]
    },
    {
      "cell_type": "code",
      "metadata": {
        "pycharm": {
          "name": "#%%\n"
        },
        "id": "WDGuisgxv-7V"
      },
      "source": [
        "set_a = {1,2,3}\n",
        "set_b = {3,4,5}"
      ],
      "execution_count": null,
      "outputs": []
    },
    {
      "cell_type": "markdown",
      "metadata": {
        "id": "bfhNGkEC4fo6"
      },
      "source": [
        "这里有一些集合的操作, 不言自明。 "
      ]
    },
    {
      "cell_type": "code",
      "metadata": {
        "pycharm": {
          "name": "#%%\n"
        },
        "colab": {
          "base_uri": "https://localhost:8080/"
        },
        "id": "ROcO-nu3v-7V",
        "outputId": "a6951f34-16ea-438a-b453-16efaf04c214"
      },
      "source": [
        "print(set_a|set_b)\n",
        "print(set_a - set_b)\n",
        "print(set_b - set_a)\n",
        "print(set_a.union(set_b))\n",
        "print(set_a.intersection(set_b))\n",
        "print(set_a^set_b)"
      ],
      "execution_count": null,
      "outputs": [
        {
          "output_type": "stream",
          "text": [
            "{1, 2, 3, 4, 5}\n",
            "{1, 2}\n",
            "{4, 5}\n",
            "{1, 2, 3, 4, 5}\n",
            "{3}\n",
            "{1, 2, 4, 5}\n"
          ],
          "name": "stdout"
        }
      ]
    },
    {
      "cell_type": "markdown",
      "metadata": {
        "id": "PNvXypsIv-7V"
      },
      "source": [
        "### 通用数据结构: 字典 (`dict`)\n",
        "\n",
        "---\n",
        "Dict基本上是一个哈希表。可以“等效”为C++中的`unordered_map`。因此, 其是无序的。为了避免错误, 如果需要有序的, 请使用OrderedDict。 \n",
        "\n",
        "**注意:**在 Python3.7+, 字典被确定为有序。 但为避免错误, 如果需要使用有序dict应另寻他法。"
      ]
    },
    {
      "cell_type": "code",
      "metadata": {
        "pycharm": {
          "name": "#%%\n"
        },
        "id": "SP6bu2giv-7V"
      },
      "source": [
        "a = dict()\n",
        "a = {'x':'1', 'y':'2'}"
      ],
      "execution_count": null,
      "outputs": []
    },
    {
      "cell_type": "code",
      "metadata": {
        "pycharm": {
          "name": "#%%\n"
        },
        "id": "Dy29kC3Dv-7W"
      },
      "source": [
        "print(a['x'])\n",
        "print(a['not_here'])"
      ],
      "execution_count": null,
      "outputs": []
    },
    {
      "cell_type": "code",
      "metadata": {
        "pycharm": {
          "name": "#%%\n"
        },
        "id": "q7ez_5SUv-7W",
        "colab": {
          "base_uri": "https://localhost:8080/"
        },
        "outputId": "c0b38b47-4576-42e0-af08-24a0530be51e"
      },
      "source": [
        "a['new_element'] = 'haha'\n",
        "print(a)"
      ],
      "execution_count": null,
      "outputs": [
        {
          "output_type": "stream",
          "text": [
            "{'x': '1', 'y': '2', 'new_element': 'haha'}\n"
          ],
          "name": "stdout"
        }
      ]
    },
    {
      "cell_type": "code",
      "metadata": {
        "pycharm": {
          "name": "#%%\n"
        },
        "id": "g1rNJr8Zv-7W"
      },
      "source": [
        "print(a.keys())\n",
        "print(a.values())"
      ],
      "execution_count": null,
      "outputs": []
    },
    {
      "cell_type": "code",
      "metadata": {
        "pycharm": {
          "name": "#%%\n"
        },
        "id": "k1scCz2Fv-7W"
      },
      "source": [
        "del a['new_element']"
      ],
      "execution_count": null,
      "outputs": []
    },
    {
      "cell_type": "code",
      "metadata": {
        "pycharm": {
          "name": "#%%\n"
        },
        "id": "oa5nS6_Uv-7W"
      },
      "source": [
        "a"
      ],
      "execution_count": null,
      "outputs": []
    },
    {
      "cell_type": "code",
      "metadata": {
        "pycharm": {
          "name": "#%%\n"
        },
        "id": "z0g1Wtnbv-7W",
        "colab": {
          "base_uri": "https://localhost:8080/"
        },
        "outputId": "6f8cbc5a-cd7c-4fe9-d718-f7e39a011f26"
      },
      "source": [
        "keys = ['a','b','c']\n",
        "values = [1,2,3]\n",
        "dict_from_zip = dict(zip(keys, values))\n",
        "print(dict_from_zip)"
      ],
      "execution_count": null,
      "outputs": [
        {
          "output_type": "stream",
          "text": [
            "{'a': 1, 'b': 2, 'c': 3}\n"
          ],
          "name": "stdout"
        }
      ]
    },
    {
      "cell_type": "code",
      "metadata": {
        "pycharm": {
          "name": "#%%\n"
        },
        "id": "8OQ1ud3zv-7W"
      },
      "source": [
        "def my_concat(**kwargs):\n",
        "    result = \"\"\n",
        "    \n",
        "    for k, v in kwargs.items():\n",
        "        result += v\n",
        "    return result\n",
        "my_concat(x=\"a\",y=\"b\")"
      ],
      "execution_count": null,
      "outputs": []
    },
    {
      "cell_type": "code",
      "metadata": {
        "pycharm": {
          "name": "#%%\n"
        },
        "id": "tjCvA7jOv-7W"
      },
      "source": [
        "my_concat(**a)"
      ],
      "execution_count": null,
      "outputs": []
    },
    {
      "cell_type": "code",
      "metadata": {
        "pycharm": {
          "name": "#%%\n"
        },
        "id": "FBSlkjtCv-7X",
        "colab": {
          "base_uri": "https://localhost:8080/"
        },
        "outputId": "dacb73a5-83b3-433c-9ac4-323a489a6404"
      },
      "source": [
        "# 你还可以使用字典推导式来缩短代码。\n",
        "odd_squares = {x: x*x for x in range(11) if x % 2 == 1}\n",
        "print(odd_squares)"
      ],
      "execution_count": null,
      "outputs": [
        {
          "output_type": "stream",
          "text": [
            "{1: 1, 3: 9, 5: 25, 7: 49, 9: 81}\n"
          ],
          "name": "stdout"
        }
      ]
    },
    {
      "cell_type": "markdown",
      "metadata": {
        "id": "Ef5oeStkv-7X"
      },
      "source": [
        "### 通用数据结构: 命名元组 (`NamedTuple`)"
      ]
    },
    {
      "cell_type": "code",
      "metadata": {
        "pycharm": {
          "name": "#%%\n"
        },
        "id": "UH691fCTv-7X"
      },
      "source": [
        "from collections import namedtuple"
      ],
      "execution_count": null,
      "outputs": []
    },
    {
      "cell_type": "code",
      "metadata": {
        "pycharm": {
          "name": "#%%\n"
        },
        "id": "PV9Byp-0v-7X"
      },
      "source": [
        "employee = namedtuple('Employee', ['age','place', 'education'])"
      ],
      "execution_count": null,
      "outputs": []
    },
    {
      "cell_type": "code",
      "metadata": {
        "pycharm": {
          "name": "#%%\n"
        },
        "id": "LVhPg5jMv-7X"
      },
      "source": [
        "tom = employee(age=10, place='beijing', education='none')"
      ],
      "execution_count": null,
      "outputs": []
    },
    {
      "cell_type": "code",
      "metadata": {
        "pycharm": {
          "name": "#%%\n"
        },
        "id": "rJAuWy5Qv-7X",
        "colab": {
          "base_uri": "https://localhost:8080/"
        },
        "outputId": "0f426200-1d94-4808-824e-1ab8e7b9825c"
      },
      "source": [
        "print(tom)"
      ],
      "execution_count": null,
      "outputs": [
        {
          "output_type": "stream",
          "text": [
            "Employee(age=10, place='beijing', education='none')\n"
          ],
          "name": "stdout"
        }
      ]
    },
    {
      "cell_type": "markdown",
      "metadata": {
        "id": "2BTBwzILv-7X"
      },
      "source": [
        "### 通用数据结构: 数据类 (`dataclass`)\n",
        "\n",
        "---\n",
        "\n",
        "数据类是将多个参数传递给函数的好方法。它有助于进行文档和范围检查, 因此人们不会仅仅是将任何内容堆叠到其中。"
      ]
    },
    {
      "cell_type": "code",
      "metadata": {
        "pycharm": {
          "name": "#%%\n"
        },
        "id": "zVrtZQvmv-7Y"
      },
      "source": [
        "from dataclasses import dataclass, field\n",
        "from typing import Optional"
      ],
      "execution_count": null,
      "outputs": []
    },
    {
      "cell_type": "code",
      "metadata": {
        "pycharm": {
          "name": "#%%\n"
        },
        "id": "vcmPfkifv-7Y"
      },
      "source": [
        "@dataclass\n",
        "class MyDataClass:\n",
        "    name : str = field(\n",
        "    default='tom',\n",
        "    metadata={'help':\"Name of the person\"})\n",
        "    \n",
        "    age: Optional[int] = field(\n",
        "    default = None,\n",
        "    metadata={'help':\"Age of the pesson. Optional.\"})\n",
        "    \n",
        "    vip: int = field(\n",
        "    default = 100,\n",
        "    metadata = {'help':\"Some very important field.\"})\n",
        "        \n",
        "\n",
        "    def __post_init__(self): # This function will help you to handle illegal argument. \n",
        "        if self.vip <= 0:\n",
        "            raise Exception(\"That important thing has to be larger than 0\")\n",
        "            \n",
        "    @property\n",
        "    def age_type(self):\n",
        "        if self.age >= 100:\n",
        "            return 'You are old'\n",
        "        else:\n",
        "            return 'You are still young' "
      ],
      "execution_count": null,
      "outputs": []
    },
    {
      "cell_type": "code",
      "metadata": {
        "pycharm": {
          "name": "#%%\n"
        },
        "id": "KoU5uzokv-7Y",
        "colab": {
          "base_uri": "https://localhost:8080/"
        },
        "outputId": "498b8202-78eb-40ac-a5cd-3e7cbb1b7629"
      },
      "source": [
        "my_data_class = MyDataClass(name='jerry', age = 20)\n",
        "print(my_data_class)"
      ],
      "execution_count": null,
      "outputs": [
        {
          "output_type": "stream",
          "text": [
            "MyDataClass(name='jerry', age=20, vip=100)\n"
          ],
          "name": "stdout"
        }
      ]
    },
    {
      "cell_type": "code",
      "metadata": {
        "pycharm": {
          "name": "#%%\n"
        },
        "id": "QFmmyKNTv-7Y",
        "colab": {
          "base_uri": "https://localhost:8080/"
        },
        "outputId": "8ed4c83c-a89d-41ac-cc84-c798ae461ffb"
      },
      "source": [
        "print(my_data_class.age)\n",
        "print(my_data_class.age_type)\n"
      ],
      "execution_count": null,
      "outputs": [
        {
          "output_type": "stream",
          "text": [
            "20\n",
            "You are still young\n"
          ],
          "name": "stdout"
        }
      ]
    },
    {
      "cell_type": "markdown",
      "metadata": {
        "id": "BK-Yiafq5peu"
      },
      "source": [
        "关于文档的那些事: \n",
        "\n",
        "通常, 使用[Spinx](https://www.sphinx-doc.org/en/master/)来生成文档是一个很好的主意。因此，应该给函数一些命令。 In general, for public api's, the docstring should include at least 通常, 对于公共API, 文档字符串应至少包含:\n",
        "\n",
        "1.   功能;\n",
        "2.   参数类型和说明;\n",
        "3.   返回类型;\n",
        "4.   用例(可选); \n",
        "\n",
        "请注意, 如果函数会更改某些输入参数。 **必须**在文档中突出显示此内容。\n"
      ]
    },
    {
      "cell_type": "markdown",
      "metadata": {
        "id": "_FD3zhmz6ZNo"
      },
      "source": [
        "## R 基础\n",
        "\n",
        "---\n",
        "在进一步探究前, 让我们粗略地介绍R能做什么以及魔术函数。 要使用R，你必须在先在你的ipynb中激活它。"
      ]
    },
    {
      "cell_type": "code",
      "metadata": {
        "id": "rhr6T4n46jd6"
      },
      "source": [
        "%load_ext rpy2.ipython"
      ],
      "execution_count": null,
      "outputs": []
    },
    {
      "cell_type": "markdown",
      "metadata": {
        "id": "au4UQkCe61qZ"
      },
      "source": [
        "为了使用R, 我们可以用`%%R`让这一个cell可以使用R。"
      ]
    },
    {
      "cell_type": "code",
      "metadata": {
        "colab": {
          "base_uri": "https://localhost:8080/"
        },
        "id": "8M1R_P-U6zgP",
        "outputId": "3c4350f2-e12c-4706-d167-30dc65515661"
      },
      "source": [
        "%%R # 像这样\n",
        "install.packages('dplyr')"
      ],
      "execution_count": null,
      "outputs": [
        {
          "output_type": "stream",
          "text": [
            "NULL\n"
          ],
          "name": "stdout"
        }
      ]
    },
    {
      "cell_type": "code",
      "metadata": {
        "id": "MdsRApIH9qQQ"
      },
      "source": [
        "%%R \n",
        "library('caret')"
      ],
      "execution_count": null,
      "outputs": []
    },
    {
      "cell_type": "code",
      "metadata": {
        "id": "d3Dx5y749t4a"
      },
      "source": [
        "%%R\n",
        "# ->, <-, = 这些都是赋值语句\n",
        "a <- 1\n",
        "2 -> b\n",
        "c = 1\n",
        "a == c"
      ],
      "execution_count": null,
      "outputs": []
    },
    {
      "cell_type": "code",
      "metadata": {
        "id": "1Atuc2Cm-Gqa"
      },
      "source": [
        "%%R\n",
        "for (i in 1:100){\n",
        "    print(i)\n",
        "}"
      ],
      "execution_count": null,
      "outputs": []
    },
    {
      "cell_type": "code",
      "metadata": {
        "id": "zopVUBV0-YQv"
      },
      "source": [
        "%%R\n",
        "myfunc <- function(a){\n",
        "    a = a+1\n",
        "    return(a+1)\n",
        "}"
      ],
      "execution_count": null,
      "outputs": []
    },
    {
      "cell_type": "code",
      "metadata": {
        "id": "t5hDC1th-g7B",
        "colab": {
          "base_uri": "https://localhost:8080/"
        },
        "outputId": "b35d988e-a25a-43cb-f095-1494edcb0429"
      },
      "source": [
        "%%R\n",
        "myfunc(a) # It will usually make a copy"
      ],
      "execution_count": null,
      "outputs": [
        {
          "output_type": "stream",
          "text": [
            "[1] 3\n"
          ],
          "name": "stdout"
        }
      ]
    },
    {
      "cell_type": "code",
      "metadata": {
        "id": "WmpzpUsv-sZR",
        "colab": {
          "base_uri": "https://localhost:8080/"
        },
        "outputId": "042a57c8-03af-4226-f190-2940d0a0969a"
      },
      "source": [
        "%%R\n",
        "a"
      ],
      "execution_count": null,
      "outputs": [
        {
          "output_type": "stream",
          "text": [
            "[1] 1\n"
          ],
          "name": "stdout"
        }
      ]
    },
    {
      "cell_type": "code",
      "metadata": {
        "id": "AEgFtkuN-vOt"
      },
      "source": [
        "%%R\n",
        "data(mtcars) # This is a built-in R dataset"
      ],
      "execution_count": null,
      "outputs": []
    },
    {
      "cell_type": "code",
      "metadata": {
        "id": "tdteFBmp-0sm",
        "colab": {
          "base_uri": "https://localhost:8080/"
        },
        "outputId": "38422bde-20f2-4a71-ef5f-ac89801611f8"
      },
      "source": [
        "%%R\n",
        "summary(mtcars)"
      ],
      "execution_count": null,
      "outputs": [
        {
          "output_type": "stream",
          "text": [
            "      mpg             cyl             disp             hp       \n",
            " Min.   :10.40   Min.   :4.000   Min.   : 71.1   Min.   : 52.0  \n",
            " 1st Qu.:15.43   1st Qu.:4.000   1st Qu.:120.8   1st Qu.: 96.5  \n",
            " Median :19.20   Median :6.000   Median :196.3   Median :123.0  \n",
            " Mean   :20.09   Mean   :6.188   Mean   :230.7   Mean   :146.7  \n",
            " 3rd Qu.:22.80   3rd Qu.:8.000   3rd Qu.:326.0   3rd Qu.:180.0  \n",
            " Max.   :33.90   Max.   :8.000   Max.   :472.0   Max.   :335.0  \n",
            "      drat             wt             qsec             vs        \n",
            " Min.   :2.760   Min.   :1.513   Min.   :14.50   Min.   :0.0000  \n",
            " 1st Qu.:3.080   1st Qu.:2.581   1st Qu.:16.89   1st Qu.:0.0000  \n",
            " Median :3.695   Median :3.325   Median :17.71   Median :0.0000  \n",
            " Mean   :3.597   Mean   :3.217   Mean   :17.85   Mean   :0.4375  \n",
            " 3rd Qu.:3.920   3rd Qu.:3.610   3rd Qu.:18.90   3rd Qu.:1.0000  \n",
            " Max.   :4.930   Max.   :5.424   Max.   :22.90   Max.   :1.0000  \n",
            "       am              gear            carb      \n",
            " Min.   :0.0000   Min.   :3.000   Min.   :1.000  \n",
            " 1st Qu.:0.0000   1st Qu.:3.000   1st Qu.:2.000  \n",
            " Median :0.0000   Median :4.000   Median :2.000  \n",
            " Mean   :0.4062   Mean   :3.688   Mean   :2.812  \n",
            " 3rd Qu.:1.0000   3rd Qu.:4.000   3rd Qu.:4.000  \n",
            " Max.   :1.0000   Max.   :5.000   Max.   :8.000  \n"
          ],
          "name": "stdout"
        }
      ]
    },
    {
      "cell_type": "code",
      "metadata": {
        "id": "kwkdxgZ9-4ft",
        "colab": {
          "base_uri": "https://localhost:8080/"
        },
        "outputId": "836ed8ea-b6fd-49ba-ad82-0ecbcf902279"
      },
      "source": [
        "%%R\n",
        "# $相当我们常见语言中的 . \n",
        "# R中的 . 是合法命名符号, \n",
        "# 其含义与常见语言中_相似\n",
        "mtcars$mpg"
      ],
      "execution_count": null,
      "outputs": [
        {
          "output_type": "stream",
          "text": [
            " [1] 21.0 21.0 22.8 21.4 18.7 18.1 14.3 24.4 22.8 19.2 17.8 16.4 17.3 15.2 10.4\n",
            "[16] 10.4 14.7 32.4 30.4 33.9 21.5 15.5 15.2 13.3 19.2 27.3 26.0 30.4 15.8 19.7\n",
            "[31] 15.0 21.4\n"
          ],
          "name": "stdout"
        }
      ]
    },
    {
      "cell_type": "markdown",
      "metadata": {
        "id": "QTD17FDxv-7Y"
      },
      "source": [
        "# Python对象中基本定制\n",
        "\n",
        "---\n",
        "注释: 此章原标题为“Magic Functions in Python Object”, 译为“Python对象中的魔法函数”。但其内容是Python Docs中的`3.3.1. Basic customization`, 官方译为:`3.3.1. 基本定制`。"
      ]
    },
    {
      "cell_type": "code",
      "metadata": {
        "id": "YdKoD7fav-7Y"
      },
      "source": [
        "class Vector:\n",
        "    def __init__(self, x=0, y=0):\n",
        "        self.x = x\n",
        "        self.y = y"
      ],
      "execution_count": null,
      "outputs": []
    },
    {
      "cell_type": "markdown",
      "metadata": {
        "id": "LTsFViqUv-7Y"
      },
      "source": [
        "让我们看看是否有更好地办法来输出。"
      ]
    },
    {
      "cell_type": "code",
      "metadata": {
        "id": "EnNxTCV5v-7Y"
      },
      "source": [
        "class Vector:\n",
        "    def __init__(self, x=0, y=0):\n",
        "        self.x = x\n",
        "        self.y = y\n",
        "\n",
        "    def __repr__(self):\n",
        "        return 'Vector(%r,%r)' % (self.x, self.y)\n",
        "    def __str__(self):                              \n",
        "        return 'Vector(%r,%r)' % (self.x, self.y)"
      ],
      "execution_count": null,
      "outputs": []
    },
    {
      "cell_type": "code",
      "metadata": {
        "id": "9JyjIDbVv-7Z",
        "colab": {
          "base_uri": "https://localhost:8080/"
        },
        "outputId": "8d11684f-85f1-43d0-8eb3-d6a5b30d0959"
      },
      "source": [
        "v = Vector(1,2)\n",
        "print(str(v))\n",
        "print(v)"
      ],
      "execution_count": null,
      "outputs": [
        {
          "output_type": "stream",
          "text": [
            "Vector(1,2)\n",
            "Vector(1,2)\n"
          ],
          "name": "stdout"
        }
      ]
    },
    {
      "cell_type": "markdown",
      "metadata": {
        "id": "urebnixrv-7Z"
      },
      "source": [
        "以下是部分运算符。"
      ]
    },
    {
      "cell_type": "code",
      "metadata": {
        "id": "_ayvAl-uv-7Z"
      },
      "source": [
        "class Vector:\n",
        "    def __init__(self, x=0, y=0):\n",
        "        self.x = x\n",
        "        self.y = y\n",
        "\n",
        "    def __repr__(self):\n",
        "        return 'Vector(%r,%r)' % (self.x, self.y)\n",
        "    \n",
        "    def __add__(self, other):\n",
        "        x = self.x + other.x\n",
        "        y = self.y + other.y\n",
        "        return Vector(x, y)\n",
        "    \n",
        "    def __sub__(self, other):\n",
        "        x = self.x - other.x\n",
        "        y = self.y - other.y\n",
        "        return Vector(x, y)\n",
        "    \n",
        "    def __mul__(self, scalar):\n",
        "        return Vector(self.x * scalar, self.y * scalar)"
      ],
      "execution_count": null,
      "outputs": []
    },
    {
      "cell_type": "code",
      "metadata": {
        "id": "RoeslxP-v-7Z"
      },
      "source": [
        "v1 = Vector(0,0)\n",
        "v2 = Vector(1,2)\n",
        "\n",
        "v1 *= 2"
      ],
      "execution_count": null,
      "outputs": []
    },
    {
      "cell_type": "markdown",
      "metadata": {
        "id": "kn5neGbjv-7Z"
      },
      "source": [
        "以下是部分比较符。"
      ]
    },
    {
      "cell_type": "code",
      "metadata": {
        "id": "HUbPuHaiv-7Z"
      },
      "source": [
        "from math import hypot\n",
        "\n",
        "class Vector:\n",
        "    def __init__(self, x=0, y=0):\n",
        "        self.x = x\n",
        "        self.y = y\n",
        "\n",
        "    def __repr__(self):\n",
        "        return 'Vector(%r,%r)' % (self.x, self.y)\n",
        "    \n",
        "    def __add__(self, other):\n",
        "        x = self.x + other.x\n",
        "        y = self.y + other.y\n",
        "        return Vector(x, y)\n",
        "    \n",
        "    def __sub__(self, other):\n",
        "        x = self.x - other.x\n",
        "        y = self.y - other.y\n",
        "        return Vector(x, y)\n",
        "    \n",
        "    def __mul__(self, scalar):\n",
        "        return Vector(self.x * scalar, self.y * scalar)\n",
        "    \n",
        "    def __abs__(self):\n",
        "        return hypot(self.x, self.y)\n",
        "    \n",
        "    def __bool__(self):\n",
        "        return bool(abs(self))\n",
        "    \n",
        "    def __eq__(self, other):\n",
        "        return self.x == other.x and self.y == other.y\n",
        "    \n",
        "    def __lt__(self, other):\n",
        "        return abs(self) < abs(other)\n",
        "    \n",
        "    def __gt__(self, other):\n",
        "        return abs(self) > abs(other)"
      ],
      "execution_count": null,
      "outputs": []
    },
    {
      "cell_type": "code",
      "metadata": {
        "id": "lmK0Dk3Ov-7a",
        "colab": {
          "base_uri": "https://localhost:8080/"
        },
        "outputId": "48d72ea4-5e36-47f6-8f7d-795d607fdd54"
      },
      "source": [
        "v1 = Vector(1,1)\n",
        "v2 = Vector(1,1)\n",
        "v3 = Vector(1,2)\n",
        "\n",
        "print(v1 == v2)\n",
        "print(v1 == v3)\n",
        "\n",
        "print(v3 > v1)\n",
        "print(v1 < v3)"
      ],
      "execution_count": null,
      "outputs": [
        {
          "output_type": "stream",
          "text": [
            "True\n",
            "False\n",
            "True\n",
            "True\n"
          ],
          "name": "stdout"
        }
      ]
    },
    {
      "cell_type": "markdown",
      "metadata": {
        "id": "k9hGcr9Bv-7a"
      },
      "source": [
        "# Python中函数化编程基础"
      ]
    },
    {
      "cell_type": "markdown",
      "metadata": {
        "id": "V4dBSftjv-7b"
      },
      "source": [
        "### 常见高阶函数"
      ]
    },
    {
      "cell_type": "code",
      "metadata": {
        "pycharm": {
          "name": "#%%\n"
        },
        "id": "A8-9geUfv-7b",
        "colab": {
          "base_uri": "https://localhost:8080/"
        },
        "outputId": "d1dca22c-cf75-4757-e430-e61c417b2656"
      },
      "source": [
        "my_input = [1,2,3,4,5,6,6]\n",
        "result = map(lambda x: x+1, my_input)\n",
        "print(result) # map is lazy\n",
        "print(list(result))"
      ],
      "execution_count": null,
      "outputs": [
        {
          "output_type": "stream",
          "text": [
            "<map object at 0x7f671554e2b0>\n",
            "[2, 3, 4, 5, 6, 7, 7]\n"
          ],
          "name": "stdout"
        }
      ]
    },
    {
      "cell_type": "code",
      "metadata": {
        "pycharm": {
          "name": "#%%\n"
        },
        "id": "sJcV-c8Vv-7b"
      },
      "source": [
        "# 注意:\n",
        "# 此处如果按照通常的思路去处理, 需要三次for循环.\n",
        "# 但是其实这三个步骤实际只用了一个for循环的时间.\n",
        "from functools import reduce\n",
        "result = reduce(lambda x, y: x+y, filter(lambda x: x > 3, map(lambda x: x+1, my_input)))"
      ],
      "execution_count": null,
      "outputs": []
    },
    {
      "cell_type": "code",
      "metadata": {
        "pycharm": {
          "name": "#%%\n"
        },
        "id": "NHWhqj5Xv-7b",
        "colab": {
          "base_uri": "https://localhost:8080/"
        },
        "outputId": "cdd29eda-c7df-4200-80f7-05017043d500"
      },
      "source": [
        "print(result)"
      ],
      "execution_count": null,
      "outputs": [
        {
          "output_type": "stream",
          "text": [
            "29\n"
          ],
          "name": "stdout"
        }
      ]
    },
    {
      "cell_type": "markdown",
      "metadata": {
        "id": "vKeiMZ1Dv-7b"
      },
      "source": [
        "### 装饰器"
      ]
    },
    {
      "cell_type": "code",
      "metadata": {
        "pycharm": {
          "name": "#%%\n"
        },
        "id": "ZmefSJ0dv-7b"
      },
      "source": [
        "def my_decorator(func):\n",
        "    def my_decorator_impl(x):\n",
        "        result = x if x > 0 else 0\n",
        "        return func(result)\n",
        "    return my_decorator_impl\n",
        "\n",
        "@my_decorator\n",
        "def myfunc(x):\n",
        "    return np.sqrt(x)"
      ],
      "execution_count": null,
      "outputs": []
    },
    {
      "cell_type": "code",
      "metadata": {
        "colab": {
          "base_uri": "https://localhost:8080/"
        },
        "id": "i87VtGuZLFmZ",
        "outputId": "44456245-52ff-47f6-8809-155732c72aa8"
      },
      "source": [
        "# This is the same\n",
        "new_func = my_decorator(myfunc)\n"
      ],
      "execution_count": null,
      "outputs": [
        {
          "output_type": "execute_result",
          "data": {
            "text/plain": [
              "0.0"
            ]
          },
          "metadata": {
            "tags": []
          },
          "execution_count": 159
        }
      ]
    },
    {
      "cell_type": "code",
      "metadata": {
        "pycharm": {
          "name": "#%%\n"
        },
        "id": "Ro4FAnl6v-7c",
        "colab": {
          "base_uri": "https://localhost:8080/"
        },
        "outputId": "0a240ac6-34dc-4e66-b88c-6a26b2e35e3a"
      },
      "source": [
        "myfunc(-1)"
      ],
      "execution_count": null,
      "outputs": [
        {
          "output_type": "execute_result",
          "data": {
            "text/plain": [
              "0.0"
            ]
          },
          "metadata": {
            "tags": []
          },
          "execution_count": 156
        }
      ]
    },
    {
      "cell_type": "code",
      "metadata": {
        "pycharm": {
          "name": "#%%\n"
        },
        "id": "hQiB8634v-7c"
      },
      "source": [
        "from functools import partial\n",
        "def decor_impl(fun, argument):\n",
        "    def impl(x):\n",
        "        result = x if x > argument else argument\n",
        "        return fun(result)\n",
        "    return impl\n",
        "\n",
        "decor = partial(decor_impl, argument = 2)\n",
        "\n",
        "@decor\n",
        "def myfunc(x):\n",
        "    return np.sqrt(x)"
      ],
      "execution_count": null,
      "outputs": []
    },
    {
      "cell_type": "code",
      "metadata": {
        "pycharm": {
          "name": "#%%\n"
        },
        "id": "3DZeQkflv-7c",
        "colab": {
          "base_uri": "https://localhost:8080/"
        },
        "outputId": "0c759875-29ea-4ca4-9c7d-1d262495d2a7"
      },
      "source": [
        "myfunc(-1)"
      ],
      "execution_count": null,
      "outputs": [
        {
          "output_type": "execute_result",
          "data": {
            "text/plain": [
              "1.4142135623730951"
            ]
          },
          "metadata": {
            "tags": []
          },
          "execution_count": 98
        }
      ]
    },
    {
      "cell_type": "code",
      "metadata": {
        "pycharm": {
          "name": "#%%\n"
        },
        "id": "DWD6ppucv-7c"
      },
      "source": [
        "def para(dec):\n",
        "    def layer(*args, **kwargs):\n",
        "        def repl(f):\n",
        "            return dec(f, *args, **kwargs)\n",
        "        return repl\n",
        "    return layer\n",
        "\n",
        "@para\n",
        "def decor(f, n):\n",
        "    def impl(x):\n",
        "        result = x if x > n else n\n",
        "        return f(result)\n",
        "    return impl\n",
        "\n",
        "@decor(0)\n",
        "def myfunc(x):\n",
        "    return np.sqrt(x)"
      ],
      "execution_count": null,
      "outputs": []
    },
    {
      "cell_type": "code",
      "metadata": {
        "id": "erOdedLUNPHt"
      },
      "source": [
        "def para(dec):\n",
        "    def layer(*args, **kwargs):\n",
        "        def repl(f):\n",
        "            return dec(f, *args, **kwargs)\n",
        "        return repl\n",
        "    return layer\n",
        "\n",
        "def decor(f, n):\n",
        "    def impl(x):\n",
        "        result = x if x > n else n\n",
        "        return f(result)\n",
        "    return impl"
      ],
      "execution_count": null,
      "outputs": []
    }
  ]
}